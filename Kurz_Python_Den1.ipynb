{
 "cells": [
  {
   "cell_type": "markdown",
   "id": "821313a6",
   "metadata": {},
   "source": [
    "# Kurz Python Zaklady"
   ]
  },
  {
   "cell_type": "markdown",
   "id": "f48df747",
   "metadata": {},
   "source": [
    "## 01. Komentáre, kódovanie, výpis, docstring "
   ]
  },
  {
   "cell_type": "code",
   "execution_count": 9,
   "id": "726e4724",
   "metadata": {
    "ExecuteTime": {
     "end_time": "2022-06-15T08:07:21.578123Z",
     "start_time": "2022-06-15T08:07:21.570278Z"
    }
   },
   "outputs": [
    {
     "name": "stdout",
     "output_type": "stream",
     "text": [
      "Ahoj Python\n",
      "Ahoj svet\n",
      "Hello World\n",
      "🤩 🤐 ✅ ❤ \n",
      "\n",
      "    Toto je docstring (Dokumentacny retazec)\n",
      "    Autor:\n",
      "    Verzia:\n",
      "    \n",
      "\n"
     ]
    }
   ],
   "source": [
    "# -*- coding: utf-8 -*-\n",
    "# Toto je jednoriadkovy komentar alt + 35 \n",
    "\n",
    "\"\"\"\n",
    "    Toto je docstring (Dokumentacny retazec)\n",
    "    Autor:\n",
    "    Verzia:\n",
    "    \n",
    "\"\"\"\n",
    "\n",
    "print(\"Ahoj Python\")\n",
    "print(\"Ahoj svet\")\n",
    "print('Hello World')\n",
    "print(\"🤩 🤐 ✅ ❤ \")\n",
    "\n",
    "\n",
    "print(__doc__)\n",
    "\n"
   ]
  },
  {
   "cell_type": "markdown",
   "id": "87831a63",
   "metadata": {},
   "source": [
    "## 02. Premenné a dátové typy"
   ]
  },
  {
   "cell_type": "code",
   "execution_count": 24,
   "id": "7511d1fe",
   "metadata": {
    "ExecuteTime": {
     "end_time": "2022-06-15T08:38:18.023289Z",
     "start_time": "2022-06-15T08:38:18.005253Z"
    }
   },
   "outputs": [
    {
     "name": "stdout",
     "output_type": "stream",
     "text": [
      "Karol\n",
      "<class 'str'>\n",
      "12\n",
      "<class 'int'>\n",
      "899.99\n",
      "<class 'float'>\n",
      "False\n",
      "<class 'bool'>\n",
      "None\n",
      "<class 'NoneType'>\n",
      "Meno klienta --> Karol\n",
      "Meno klienta --> Karol\n"
     ]
    }
   ],
   "source": [
    "# str - string - retazec\n",
    "meno_klient = \"Karol\"\n",
    "print(meno_klient)\n",
    "print(type(meno_klient))\n",
    "\n",
    "# int - integer - cele cisla\n",
    "pocet_ponoziek = 12\n",
    "vek_klient = 42\n",
    "print(pocet_ponoziek)\n",
    "print(type(pocet_ponoziek))\n",
    "\n",
    "# float - cislo s plavajucou desatinnou ciarkou - real. cislo R\n",
    "cena_produkt_notebook = 899.99\n",
    "print(cena_produkt_notebook)\n",
    "print(type(cena_produkt_notebook))\n",
    "\n",
    "# bool/boolean - True/False\n",
    "je_skladom_notebook = False\n",
    "print(je_skladom_notebook)\n",
    "print(type(je_skladom_notebook))\n",
    "\n",
    "# None - nic\n",
    "kosik = None\n",
    "print(kosik)\n",
    "print(type(kosik))\n",
    "\n",
    "# Kombinacia vypis textu + obsah premennej\n",
    "print(\"Meno klienta --> \" + meno_klient)\n",
    "print(\"Meno klienta -->\", meno_klient)"
   ]
  },
  {
   "cell_type": "markdown",
   "id": "74a10144",
   "metadata": {},
   "source": [
    "## 03. Operácie"
   ]
  },
  {
   "cell_type": "code",
   "execution_count": 43,
   "id": "afd0428f",
   "metadata": {
    "ExecuteTime": {
     "end_time": "2022-06-15T08:51:07.563937Z",
     "start_time": "2022-06-15T08:51:07.552935Z"
    }
   },
   "outputs": [
    {
     "name": "stdout",
     "output_type": "stream",
     "text": [
      "8\n",
      "-28\n",
      "10\n",
      "32\n",
      "2.5\n",
      "2\n",
      "1\n",
      "0\n",
      "\n",
      "And (Logicky sucin)\n",
      "True\n",
      "False\n",
      "\n",
      "Or (Logicky sucet)\n",
      "True\n",
      "True\n",
      "False\n",
      "\n",
      "not (Negacia)\n",
      "False\n",
      "True\n"
     ]
    }
   ],
   "source": [
    "# + - / *\n",
    "print(5+3)\n",
    "\n",
    "print(5-33)\n",
    "\n",
    "print(2*5)\n",
    "\n",
    "# Mocnina 2^5\n",
    "print(2**5)\n",
    "\n",
    "# Realne delenie\n",
    "print(5/2)\n",
    "\n",
    "# Celociselne delenie\n",
    "print(5//2)\n",
    "\n",
    "# Delenie so zvyskom modulo\n",
    "print(5%2)\n",
    "print(5%5)\n",
    "\n",
    "# And (Logicky sucin), True log. 1, False log. 0\n",
    "# Or (Logicky sucet)\n",
    "# \\n new line novy riadok/odriadkuj\n",
    "print(\"\\nAnd (Logicky sucin)\")\n",
    "print(True and True)\n",
    "print(True and False)\n",
    "\n",
    "print(\"\\nOr (Logicky sucet)\")\n",
    "print(True or True)\n",
    "print(True or False)\n",
    "print(False or False)\n",
    "\n",
    "# not (log. negacia)\n",
    "print(\"\\nnot (Negacia)\")\n",
    "print(not True)\n",
    "print(not False)"
   ]
  },
  {
   "cell_type": "markdown",
   "id": "f1e7d010",
   "metadata": {},
   "source": [
    "## 04. Zabudovane (built-in) funkcie"
   ]
  },
  {
   "cell_type": "code",
   "execution_count": 58,
   "id": "e1a3453a",
   "metadata": {
    "ExecuteTime": {
     "end_time": "2022-06-15T09:27:04.225129Z",
     "start_time": "2022-06-15T09:27:04.108026Z"
    }
   },
   "outputs": [
    {
     "name": "stdout",
     "output_type": "stream",
     "text": [
      "5980\n",
      "-500\n",
      "5478\n",
      "6\n",
      "913.0\n",
      "NamespaceMagics\t autopep8\t cena_produkt_notebook\t get_ipython\t getsizeof\t je_skladom_notebook\t json\t kosik\t meno_klient\t \n",
      "np\t pocet\t pocet_ponoziek\t priemer\t sucet\t var_dic_list\t vek_klient\t \n",
      "Co bolo skorej? -->  🥚\n"
     ]
    }
   ],
   "source": [
    "print(max([-10, 5, -500, 0, 5980, 3]))\n",
    "print(min([-10, 5, -500, 0, 5980, 3]))\n",
    "print(sum([-10, 5, -500, 0, 5980, 3]))\n",
    "print(len([-10, 5, -500, 0, 5980, 3]))\n",
    "\n",
    "sucet = sum([-10, 5, -500, 0, 5980, 3])\n",
    "pocet = len([-10, 5, -500, 0, 5980, 3])\n",
    "\n",
    "priemer = sucet / pocet\n",
    "print(priemer)\n",
    "%mkdir Faktury\n",
    "%who\n",
    "%rmdir Faktury\n",
    "\n",
    "print(\"Co bolo skorej? --> \", max(['\\N{CHICKEN}', '\\N{EGG}']))"
   ]
  },
  {
   "cell_type": "markdown",
   "id": "46a065e3",
   "metadata": {
    "ExecuteTime": {
     "end_time": "2022-06-15T09:27:56.523448Z",
     "start_time": "2022-06-15T09:27:56.513453Z"
    }
   },
   "source": [
    "## 05. Vlastné výpisy, pretypovanie (casting)"
   ]
  },
  {
   "cell_type": "code",
   "execution_count": 92,
   "id": "14a5a6d4",
   "metadata": {
    "ExecuteTime": {
     "end_time": "2022-06-15T09:55:45.688020Z",
     "start_time": "2022-06-15T09:55:45.664980Z"
    }
   },
   "outputs": [
    {
     "name": "stdout",
     "output_type": "stream",
     "text": [
      "5\n",
      "5.5\n",
      "AdamEva\n",
      "Adam Eva\n",
      "Milujem Python\n",
      "Milujem Python\n",
      "Milujem Python\n",
      "Milujem Python\n",
      "\n",
      "\n",
      "Ahoj Adam\n",
      "\n",
      "Ahoj Eva\n",
      "Adam \t Sangala\n",
      "Meno: \t Adam\n",
      "C:\\temp\n",
      "\n",
      "Mzda zamestnanec: None, je to typ: <class 'NoneType'>\n",
      "\n",
      "Mzda zamestnanec: None, je to typ: <class 'str'>\n",
      "\n",
      "Mzda zamestnanec: False, je to typ: <class 'bool'>\n"
     ]
    }
   ],
   "source": [
    "# Sucet - cisla (int, float)\n",
    "print(2 + 3)\n",
    "print(2 + 3.5)\n",
    "print(\"Adam\" + \"Eva\")\n",
    "print(\"Adam\" + \" \" + \"Eva\")\n",
    "\n",
    "oblubeny_programovaci_jazyk = \"Python\"\n",
    "print(\"Milujem \" + oblubeny_programovaci_jazyk)\n",
    "print(\"Milujem\", oblubeny_programovaci_jazyk)\n",
    "print(\"Milujem {}\".format(oblubeny_programovaci_jazyk))\n",
    "# F String\n",
    "print(f\"Milujem {oblubeny_programovaci_jazyk}\")\n",
    "\n",
    "# Ukoncovacie sekvencie - escaped sequences\n",
    "# \\n - new line - novy riadok/odriadkovanie - br, vbNewLine\n",
    "# \\t - tab - tabulator\n",
    "# \\\\ - \\ spatne lomitko, treba zdvojit\n",
    "# \\' - '\n",
    "# \\\" - \"\n",
    "\n",
    "print(\"\\n\\nAhoj Adam\")\n",
    "print(\"\\nAhoj Eva\")\n",
    "\n",
    "# / lomitko\n",
    "# \\ backslash spatne lomitko (alt + 92)\n",
    "\n",
    "print(\"Adam \\t Sangala\")\n",
    "print(\"Meno: \\t Adam\")\n",
    "print(\"C:\\\\temp\")\n",
    "\n",
    "# Pretypovanie/casting\n",
    "mzda_zamestnanec = None\n",
    "print(f\"\\nMzda zamestnanec: {mzda_zamestnanec}, je to typ: {type(mzda_zamestnanec)}\")\n",
    "\n",
    "mzda_zamestnanec_str = str(mzda_zamestnanec)\n",
    "print(f\"\\nMzda zamestnanec: {mzda_zamestnanec_str}, je to typ: {type(mzda_zamestnanec_str)}\")\n",
    "\n",
    "mzda_zamestnanec_bool = bool(mzda_zamestnanec)\n",
    "print(f\"\\nMzda zamestnanec: {mzda_zamestnanec_bool}, je to typ: {type(mzda_zamestnanec_bool)}\")"
   ]
  },
  {
   "cell_type": "markdown",
   "id": "3a5f2faf",
   "metadata": {
    "ExecuteTime": {
     "end_time": "2022-06-15T09:44:08.721259Z",
     "start_time": "2022-06-15T09:44:08.706232Z"
    }
   },
   "source": [
    "## 06. Modul math (matematicky modul/kniznica)"
   ]
  },
  {
   "cell_type": "code",
   "execution_count": 113,
   "id": "8f9fff62",
   "metadata": {
    "ExecuteTime": {
     "end_time": "2022-06-15T10:13:53.773860Z",
     "start_time": "2022-06-15T10:13:53.749828Z"
    }
   },
   "outputs": [
    {
     "name": "stdout",
     "output_type": "stream",
     "text": [
      "6\n",
      "5\n",
      "5\n",
      "\n",
      "Math ceil:\n",
      "6\n",
      "6\n",
      "6\n",
      "5\n",
      "\n",
      "Math floor:\n",
      "5\n",
      "5\n",
      "5\n",
      "5\n",
      "6\n",
      "\n",
      "Math trunc:\n",
      "5\n",
      "5\n",
      "5\n",
      "5\n",
      "6\n",
      "\n",
      "Math sqrt:\n",
      "9.0\n",
      "\n",
      "Math pow:\n",
      "32.0\n",
      "\n",
      "Math konstanty:\n",
      "pi 3.141592653589793\n",
      "e 2.718281828459045\n"
     ]
    }
   ],
   "source": [
    "import math\n",
    "# print(math)\n",
    "# print(type(math))\n",
    "# print(math.__doc__)\n",
    "# print(dir(math))\n",
    "# print(help(math))\n",
    "\n",
    "# round (round) (zaokruhlenie)\n",
    "print(round(5.5))\n",
    "print(round(5.3))\n",
    "print(round(5.001))\n",
    "\n",
    "# ceil (roundup) (Zaokruhlenie smerom nahor)\n",
    "print(\"\\nMath ceil:\")\n",
    "print(math.ceil(5.5))\n",
    "print(math.ceil(5.3))\n",
    "print(math.ceil(5.000001))\n",
    "print(math.ceil(5.00000))\n",
    "\n",
    "# floor (rounddown) (Zaokruhlenie smerom nadol)\n",
    "print(\"\\nMath floor:\")\n",
    "print(math.floor(5.5))\n",
    "print(math.floor(5.3))\n",
    "print(math.floor(5.000001))\n",
    "print(math.floor(5.00000))\n",
    "print(math.floor(6.00000))\n",
    "\n",
    "# trunc (trunc) - orezanie hodnoty\n",
    "print(\"\\nMath trunc:\")\n",
    "print(math.trunc(5.5))\n",
    "print(math.trunc(5.3))\n",
    "print(math.trunc(5.000001))\n",
    "print(math.trunc(5.00000))\n",
    "print(math.trunc(6.00000))\n",
    "\n",
    "print(\"\\nMath sqrt:\")\n",
    "print(math.sqrt(81))\n",
    "\n",
    "print(\"\\nMath pow:\")\n",
    "print(math.pow(2, 5))\n",
    "\n",
    "print(\"\\nMath konstanty:\")\n",
    "print(\"pi\", math.pi)\n",
    "print(\"e\", math.e)"
   ]
  },
  {
   "cell_type": "markdown",
   "id": "422b8633",
   "metadata": {},
   "source": [
    "## 07. Moduly a knižnice"
   ]
  },
  {
   "cell_type": "code",
   "execution_count": 123,
   "id": "65cef21b",
   "metadata": {
    "ExecuteTime": {
     "end_time": "2022-06-15T11:11:16.042699Z",
     "start_time": "2022-06-15T11:11:16.035707Z"
    }
   },
   "outputs": [
    {
     "name": "stdout",
     "output_type": "stream",
     "text": [
      "\n",
      "5\n",
      "5\n"
     ]
    }
   ],
   "source": [
    "import builtins\n",
    "# print(builtins)\n",
    "# # print(dir(builtins))\n",
    "# print(builtins.__doc__)\n",
    "# print(builtins.__name__)\n",
    "print(builtins.__package__)\n",
    "# print(__builtins__)\n",
    "\n",
    "print(abs(-5))\n",
    "print(abs(5))"
   ]
  },
  {
   "cell_type": "code",
   "execution_count": 132,
   "id": "763fe041",
   "metadata": {
    "ExecuteTime": {
     "end_time": "2022-06-15T11:24:39.544522Z",
     "start_time": "2022-06-15T11:24:39.531491Z"
    }
   },
   "outputs": [
    {
     "name": "stdout",
     "output_type": "stream",
     "text": [
      "<module 'os' from 'C:\\\\ProgramData\\\\Anaconda3\\\\lib\\\\os.py'>\n",
      "['.ipynb_checkpoints', 'Kurz_Python_Den1.ipynb']\n",
      "C:\\Users\\Administrator\\! SAV Python Zaklady - Reiter\n"
     ]
    }
   ],
   "source": [
    "import os\n",
    "print(os)\n",
    "# print(os.__doc__)\n",
    "print(os.listdir())\n",
    "print(os.getcwd())"
   ]
  },
  {
   "cell_type": "code",
   "execution_count": 141,
   "id": "fe2ec4ef",
   "metadata": {
    "ExecuteTime": {
     "end_time": "2022-06-15T11:28:36.415325Z",
     "start_time": "2022-06-15T11:28:36.406309Z"
    }
   },
   "outputs": [
    {
     "name": "stdout",
     "output_type": "stream",
     "text": [
      "win32\n",
      "Windows\n",
      "('64bit', 'WindowsPE')\n",
      "AMD64\n"
     ]
    }
   ],
   "source": [
    "import sys\n",
    "import platform\n",
    "# print(sys.__doc__)\n",
    "print(sys.platform)\n",
    "\n",
    "print(platform.system())\n",
    "print(platform.architecture())\n",
    "print(platform.machine())"
   ]
  },
  {
   "cell_type": "code",
   "execution_count": 143,
   "id": "e6722d05",
   "metadata": {
    "ExecuteTime": {
     "end_time": "2022-06-15T11:31:11.377382Z",
     "start_time": "2022-06-15T11:31:06.591115Z"
    }
   },
   "outputs": [
    {
     "name": "stdout",
     "output_type": "stream",
     "text": [
      "Collecting prettytable\n",
      "  Downloading prettytable-3.3.0-py3-none-any.whl (26 kB)\n",
      "Requirement already satisfied: wcwidth in c:\\programdata\\anaconda3\\lib\\site-packages (from prettytable) (0.2.5)\n",
      "Installing collected packages: prettytable\n",
      "Successfully installed prettytable-3.3.0\n"
     ]
    }
   ],
   "source": [
    "!pip install prettytable"
   ]
  },
  {
   "cell_type": "code",
   "execution_count": 147,
   "id": "e0e6ae4f",
   "metadata": {
    "ExecuteTime": {
     "end_time": "2022-06-15T11:35:37.308644Z",
     "start_time": "2022-06-15T11:35:37.299644Z"
    }
   },
   "outputs": [
    {
     "name": "stdout",
     "output_type": "stream",
     "text": [
      "+------------------+---------------+------------+-------------------+\n",
      "| Meno Zamestnanca |     Email     |  Kontakt   |      Pozicie      |\n",
      "+------------------+---------------+------------+-------------------+\n",
      "|   Adam Sangala   |  adam@sav.sk  | 0908123456 | Vedecky pracovnik |\n",
      "|  Karol Sangala   |  karol@sav.sk | 0908123000 | Vedecky pracovnik |\n",
      "|   Monika Pekna   | monika@sav.sk |            | Vedecky pracovnik |\n",
      "+------------------+---------------+------------+-------------------+\n"
     ]
    }
   ],
   "source": [
    "import prettytable\n",
    "tabulka = prettytable.PrettyTable([\"Meno Zamestnanca\", \"Email\", \"Kontakt\", \"Pozicie\"])\n",
    "tabulka.add_row([\"Adam Sangala\", \"adam@sav.sk\", \"0908123456\", \"Vedecky pracovnik\"])\n",
    "tabulka.add_row([\"Karol Sangala\", \"karol@sav.sk\", \"0908123000\", \"Vedecky pracovnik\"])\n",
    "tabulka.add_row([\"Monika Pekna\", \"monika@sav.sk\", \"\", \"Vedecky pracovnik\"])\n",
    "print(tabulka)"
   ]
  },
  {
   "cell_type": "code",
   "execution_count": 148,
   "id": "26fac32e",
   "metadata": {
    "ExecuteTime": {
     "end_time": "2022-06-15T11:37:08.665864Z",
     "start_time": "2022-06-15T11:37:08.651878Z"
    },
    "scrolled": true
   },
   "outputs": [
    {
     "name": "stdout",
     "output_type": "stream",
     "text": [
      "+------------------+---------------+------------+-------------------+\n",
      "| Meno Zamestnanca |     Email     |  Kontakt   |      Pozicie      |\n",
      "+------------------+---------------+------------+-------------------+\n",
      "|   Adam Sangala   |  adam@sav.sk  | 0908123456 | Vedecky pracovnik |\n",
      "|  Karol Sangala   |  karol@sav.sk | 0908123000 | Vedecky pracovnik |\n",
      "|   Monika Pekna   | monika@sav.sk |            | Vedecky pracovnik |\n",
      "+------------------+---------------+------------+-------------------+\n"
     ]
    }
   ],
   "source": [
    "from prettytable import PrettyTable\n",
    "\n",
    "tabulka = PrettyTable([\"Meno Zamestnanca\", \"Email\", \"Kontakt\", \"Pozicie\"])\n",
    "tabulka.add_row([\"Adam Sangala\", \"adam@sav.sk\", \"0908123456\", \"Vedecky pracovnik\"])\n",
    "tabulka.add_row([\"Karol Sangala\", \"karol@sav.sk\", \"0908123000\", \"Vedecky pracovnik\"])\n",
    "tabulka.add_row([\"Monika Pekna\", \"monika@sav.sk\", \"\", \"Vedecky pracovnik\"])\n",
    "print(tabulka)"
   ]
  },
  {
   "cell_type": "code",
   "execution_count": 149,
   "id": "8223bede",
   "metadata": {
    "ExecuteTime": {
     "end_time": "2022-06-15T11:44:20.551931Z",
     "start_time": "2022-06-15T11:44:18.212528Z"
    }
   },
   "outputs": [
    {
     "name": "stdout",
     "output_type": "stream",
     "text": [
      "Package                            Version\n",
      "---------------------------------- --------------------\n",
      "alabaster                          0.7.12\n",
      "anaconda-client                    1.9.0\n",
      "anaconda-navigator                 2.1.1\n",
      "anaconda-project                   0.10.1\n",
      "anyio                              2.2.0\n",
      "appdirs                            1.4.4\n",
      "argh                               0.26.2\n",
      "argon2-cffi                        20.1.0\n",
      "arrow                              0.13.1\n",
      "asgiref                            3.5.0\n",
      "asn1crypto                         1.4.0\n",
      "astroid                            2.6.6\n",
      "astropy                            4.3.1\n",
      "async-generator                    1.10\n",
      "atomicwrites                       1.4.0\n",
      "attrs                              21.2.0\n",
      "autopep8                           1.5.7\n",
      "Babel                              2.9.1\n",
      "backcall                           0.2.0\n",
      "backports.functools-lru-cache      1.6.4\n",
      "backports.shutil-get-terminal-size 1.0.0\n",
      "backports.tempfile                 1.0\n",
      "backports.weakref                  1.0.post1\n",
      "bcrypt                             3.2.0\n",
      "beautifulsoup4                     4.10.0\n",
      "binaryornot                        0.4.4\n",
      "bitarray                           2.3.0\n",
      "bkcharts                           0.2\n",
      "black                              19.10b0\n",
      "bleach                             4.0.0\n",
      "bokeh                              2.4.1\n",
      "boto                               2.49.0\n",
      "Bottleneck                         1.3.2\n",
      "brotlipy                           0.7.0\n",
      "cached-property                    1.5.2\n",
      "camelcase                          0.2\n",
      "certifi                            2021.10.8\n",
      "cffi                               1.14.6\n",
      "chardet                            4.0.0\n",
      "charset-normalizer                 2.0.4\n",
      "click                              8.0.3\n",
      "cloudpickle                        2.0.0\n",
      "clyent                             1.2.2\n",
      "colorama                           0.4.4\n",
      "comtypes                           1.1.10\n",
      "conda                              4.10.3\n",
      "conda-build                        3.21.6\n",
      "conda-content-trust                0+unknown\n",
      "conda-pack                         0.6.0\n",
      "conda-package-handling             1.7.3\n",
      "conda-repo-cli                     1.0.4\n",
      "conda-token                        0.3.0\n",
      "conda-verify                       3.4.2\n",
      "contextlib2                        0.6.0.post1\n",
      "cookiecutter                       1.7.2\n",
      "countryinfo                        0.1.2\n",
      "cowsay                             4.0\n",
      "cryptography                       3.4.8\n",
      "cycler                             0.10.0\n",
      "Cython                             0.29.24\n",
      "cytoolz                            0.11.0\n",
      "daal4py                            2021.3.0\n",
      "dask                               2021.10.0\n",
      "debugpy                            1.4.1\n",
      "decorator                          5.1.0\n",
      "defusedxml                         0.7.1\n",
      "diff-match-patch                   20200713\n",
      "distributed                        2021.10.0\n",
      "Django                             4.0.3\n",
      "docutils                           0.17.1\n",
      "entrypoints                        0.3\n",
      "et-xmlfile                         1.1.0\n",
      "fastcache                          1.1.0\n",
      "filelock                           3.3.1\n",
      "flake8                             3.9.2\n",
      "Flask                              1.1.2\n",
      "fonttools                          4.25.0\n",
      "forex-python                       1.8\n",
      "fsspec                             2021.10.1\n",
      "future                             0.18.2\n",
      "gevent                             21.8.0\n",
      "glob2                              0.7\n",
      "greenlet                           1.1.1\n",
      "gTTS                               2.2.4\n",
      "h5py                               3.2.1\n",
      "HeapDict                           1.0.1\n",
      "html5lib                           1.1\n",
      "idna                               3.2\n",
      "imagecodecs                        2021.8.26\n",
      "imageio                            2.9.0\n",
      "imagesize                          1.2.0\n",
      "importlib-metadata                 4.8.1\n",
      "inflection                         0.5.1\n",
      "iniconfig                          1.1.1\n",
      "intervaltree                       3.1.0\n",
      "ipykernel                          6.4.1\n",
      "ipython                            7.29.0\n",
      "ipython-genutils                   0.2.0\n",
      "ipywidgets                         7.6.5\n",
      "isort                              5.9.3\n",
      "itsdangerous                       2.0.1\n",
      "jdcal                              1.4.1\n",
      "jedi                               0.18.0\n",
      "Jinja2                             2.11.3\n",
      "jinja2-time                        0.2.0\n",
      "joblib                             1.1.0\n",
      "json5                              0.9.6\n",
      "jsonschema                         3.2.0\n",
      "jupyter                            1.0.0\n",
      "jupyter-client                     6.1.12\n",
      "jupyter-console                    6.4.0\n",
      "jupyter-contrib-core               0.3.3\n",
      "jupyter-contrib-nbextensions       0.5.1\n",
      "jupyter-core                       4.8.1\n",
      "jupyter-highlight-selected-word    0.2.0\n",
      "jupyter-latex-envs                 1.4.6\n",
      "jupyter-nbextensions-configurator  0.4.1\n",
      "jupyter-server                     1.4.1\n",
      "jupyterlab                         3.2.1\n",
      "jupyterlab-pygments                0.1.2\n",
      "jupyterlab-server                  2.8.2\n",
      "jupyterlab-widgets                 1.0.0\n",
      "keyring                            23.1.0\n",
      "kiwisolver                         1.3.1\n",
      "lazy-object-proxy                  1.6.0\n",
      "libarchive-c                       2.9\n",
      "llvmlite                           0.37.0\n",
      "locket                             0.2.1\n",
      "lxml                               4.6.3\n",
      "MarkupSafe                         1.1.1\n",
      "matplotlib                         3.4.3\n",
      "matplotlib-inline                  0.1.2\n",
      "mccabe                             0.6.1\n",
      "menuinst                           1.4.18\n",
      "mistune                            0.8.4\n",
      "mkl-fft                            1.3.1\n",
      "mkl-random                         1.2.2\n",
      "mkl-service                        2.4.0\n",
      "mock                               4.0.3\n",
      "more-itertools                     8.10.0\n",
      "mpmath                             1.2.1\n",
      "msgpack                            1.0.2\n",
      "multipledispatch                   0.6.0\n",
      "munkres                            1.1.4\n",
      "mypy-extensions                    0.4.3\n",
      "mysql-connector                    2.2.9\n",
      "navigator-updater                  0.2.1\n",
      "nbclassic                          0.2.6\n",
      "nbclient                           0.5.3\n",
      "nbconvert                          6.1.0\n",
      "nbformat                           5.1.3\n",
      "nest-asyncio                       1.5.1\n",
      "networkx                           2.6.3\n",
      "nltk                               3.6.5\n",
      "nose                               1.3.7\n",
      "notebook                           6.4.5\n",
      "numba                              0.54.1\n",
      "numexpr                            2.7.3\n",
      "numpy                              1.20.3\n",
      "numpydoc                           1.1.0\n",
      "olefile                            0.46\n",
      "openpyxl                           3.0.9\n",
      "packaging                          21.0\n",
      "pandas                             1.3.4\n",
      "pandocfilters                      1.4.3\n",
      "paramiko                           2.7.2\n",
      "parso                              0.8.2\n",
      "partd                              1.2.0\n",
      "path                               16.0.0\n",
      "pathlib2                           2.3.6\n",
      "pathspec                           0.7.0\n",
      "patsy                              0.5.2\n",
      "pendulum                           2.1.2\n",
      "pep8                               1.7.1\n",
      "pexpect                            4.8.0\n",
      "pickleshare                        0.7.5\n",
      "Pillow                             8.4.0\n",
      "pip                                21.2.4\n",
      "pkginfo                            1.7.1\n",
      "pluggy                             0.13.1\n",
      "ply                                3.11\n",
      "poyo                               0.5.0\n",
      "prettytable                        3.3.0\n",
      "prometheus-client                  0.11.0\n",
      "prompt-toolkit                     3.0.20\n",
      "psutil                             5.8.0\n",
      "ptyprocess                         0.7.0\n",
      "py                                 1.10.0\n",
      "pycodestyle                        2.7.0\n",
      "pycosat                            0.6.3\n",
      "pycparser                          2.20\n",
      "pycurl                             7.44.1\n",
      "pydocstyle                         6.1.1\n",
      "pyerfa                             2.0.0\n",
      "pyflakes                           2.3.1\n",
      "Pygments                           2.10.0\n",
      "PyJWT                              2.1.0\n",
      "pylint                             2.9.6\n",
      "pyls-spyder                        0.4.0\n",
      "pymongo                            4.0.1\n",
      "PyNaCl                             1.4.0\n",
      "pyodbc                             4.0.0-unsupported\n",
      "pyOpenSSL                          21.0.0\n",
      "pyparsing                          3.0.4\n",
      "pypiwin32                          223\n",
      "pyreadline                         2.1\n",
      "pyrsistent                         0.18.0\n",
      "PySocks                            1.7.1\n",
      "pytest                             6.2.4\n",
      "python-dateutil                    2.8.2\n",
      "python-lsp-black                   1.0.0\n",
      "python-lsp-jsonrpc                 1.0.0\n",
      "python-lsp-server                  1.2.4\n",
      "python-slugify                     5.0.2\n",
      "pyttsx3                            2.90\n",
      "pytz                               2021.3\n",
      "pytzdata                           2020.1\n",
      "PyWavelets                         1.1.1\n",
      "pywin32                            228\n",
      "pywin32-ctypes                     0.2.0\n",
      "pywinpty                           0.5.7\n",
      "PyYAML                             6.0\n",
      "pyzmq                              22.2.1\n",
      "QDarkStyle                         3.0.2\n",
      "qstylizer                          0.1.10\n",
      "QtAwesome                          1.0.2\n",
      "qtconsole                          5.1.1\n",
      "QtPy                               1.10.0\n",
      "regex                              2021.8.3\n",
      "requests                           2.26.0\n",
      "rope                               0.19.0\n",
      "Rtree                              0.9.7\n",
      "ruamel-yaml-conda                  0.15.100\n",
      "scikit-image                       0.18.3\n",
      "scikit-learn                       0.24.2\n",
      "scikit-learn-intelex               2021.20210714.120553\n",
      "scipy                              1.7.1\n",
      "seaborn                            0.11.2\n",
      "Send2Trash                         1.8.0\n",
      "setuptools                         58.0.4\n",
      "simplegeneric                      0.8.1\n",
      "simplejson                         3.17.6\n",
      "singledispatch                     3.7.0\n",
      "sip                                4.19.13\n",
      "six                                1.16.0\n",
      "sniffio                            1.2.0\n",
      "snowballstemmer                    2.1.0\n",
      "sortedcollections                  2.1.0\n",
      "sortedcontainers                   2.4.0\n",
      "soupsieve                          2.2.1\n",
      "Sphinx                             4.2.0\n",
      "sphinxcontrib-applehelp            1.0.2\n",
      "sphinxcontrib-devhelp              1.0.2\n",
      "sphinxcontrib-htmlhelp             2.0.0\n",
      "sphinxcontrib-jsmath               1.0.1\n",
      "sphinxcontrib-qthelp               1.0.3\n",
      "sphinxcontrib-serializinghtml      1.1.5\n",
      "sphinxcontrib-websupport           1.2.4\n",
      "spyder                             5.1.5\n",
      "spyder-kernels                     2.1.3\n",
      "SQLAlchemy                         1.4.22\n",
      "sqlparse                           0.4.2\n",
      "statsmodels                        0.12.2\n",
      "sympy                              1.9\n",
      "tables                             3.6.1\n",
      "TBB                                0.2\n",
      "tblib                              1.7.0\n",
      "terminado                          0.9.4\n",
      "testpath                           0.5.0\n",
      "text-unidecode                     1.3\n",
      "textdistance                       4.2.1\n",
      "threadpoolctl                      2.2.0\n",
      "three-merge                        0.1.1\n",
      "tifffile                           2021.7.2\n",
      "tinycss                            0.4\n",
      "toml                               0.10.2\n",
      "toolz                              0.11.1\n",
      "tornado                            6.1\n",
      "tqdm                               4.62.3\n",
      "traitlets                          5.1.0\n",
      "typed-ast                          1.4.3\n",
      "typing-extensions                  3.10.0.2\n",
      "tzdata                             2022.1\n",
      "ujson                              4.0.2\n",
      "unicodecsv                         0.14.1\n",
      "Unidecode                          1.2.0\n",
      "urllib3                            1.26.7\n",
      "watchdog                           2.1.3\n",
      "wcwidth                            0.2.5\n",
      "webencodings                       0.5.1\n",
      "Werkzeug                           2.0.2\n",
      "wheel                              0.37.0\n",
      "whichcraft                         0.6.1"
     ]
    }
   ],
   "source": [
    "!pip list"
   ]
  },
  {
   "cell_type": "code",
   "execution_count": null,
   "id": "0763a98f",
   "metadata": {},
   "outputs": [],
   "source": []
  }
 ],
 "metadata": {
  "kernelspec": {
   "display_name": "Python 3 (ipykernel)",
   "language": "python",
   "name": "python3"
  },
  "language_info": {
   "codemirror_mode": {
    "name": "ipython",
    "version": 3
   },
   "file_extension": ".py",
   "mimetype": "text/x-python",
   "name": "python",
   "nbconvert_exporter": "python",
   "pygments_lexer": "ipython3",
   "version": "3.9.7"
  },
  "toc": {
   "base_numbering": 1,
   "nav_menu": {},
   "number_sections": true,
   "sideBar": true,
   "skip_h1_title": false,
   "title_cell": "Table of Contents",
   "title_sidebar": "Contents",
   "toc_cell": false,
   "toc_position": {},
   "toc_section_display": true,
   "toc_window_display": false
  },
  "varInspector": {
   "cols": {
    "lenName": 16,
    "lenType": 16,
    "lenVar": 40
   },
   "kernels_config": {
    "python": {
     "delete_cmd_postfix": "",
     "delete_cmd_prefix": "del ",
     "library": "var_list.py",
     "varRefreshCmd": "print(var_dic_list())"
    },
    "r": {
     "delete_cmd_postfix": ") ",
     "delete_cmd_prefix": "rm(",
     "library": "var_list.r",
     "varRefreshCmd": "cat(var_dic_list()) "
    }
   },
   "types_to_exclude": [
    "module",
    "function",
    "builtin_function_or_method",
    "instance",
    "_Feature"
   ],
   "window_display": false
  }
 },
 "nbformat": 4,
 "nbformat_minor": 5
}
